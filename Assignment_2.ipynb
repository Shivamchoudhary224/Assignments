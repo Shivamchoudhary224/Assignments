{
  "nbformat": 4,
  "nbformat_minor": 0,
  "metadata": {
    "colab": {
      "provenance": []
    },
    "kernelspec": {
      "name": "python3",
      "display_name": "Python 3"
    },
    "language_info": {
      "name": "python"
    }
  },
  "cells": [
    {
      "cell_type": "markdown",
      "source": [
        "Q1. What is the Probability density function?\n",
        "\n",
        "Ans: Probability density function is a function which describes the probability distribution for a random continous variable, pdf refer to the likelyhood of a value occuring in a specified range.\n",
        "\n",
        "Q2. What are the types of Probability distribution?\n",
        "\n",
        "Ans Probability distributions are of two types:\n",
        "\n",
        "1: Discrete Probability distribution: It describes the probability values for discrete random variable.\n",
        "\n",
        "It consists of uniform probability distribution, bernoulli probability distribution, binomial probability distribution and poisson probability distribution\n",
        "\n",
        "2: Continous Probability Distribution: It describes the probability values for continous random variable.\n",
        "\n",
        "It consists of Normal probability distribution, standard normal probability distribution, students t distribution and chi square distribution\n",
        "\n",
        "Q3: Write a Python function to calculate the probability density function of a normal distribution with\n",
        "given mean and standard deviation at a given point.\n",
        "\n",
        "Ans: Code//\n",
        "\n",
        "from scipy.stats import norm\n",
        "\n",
        "def normal_pdf(x, mu, sigma):\n",
        "\n",
        "    <!-- Parameters:\n",
        "    x (float): The point at which to calculate the PDF.\n",
        "    mu (float): The mean of the normal distribution.\n",
        "    sigma (float): The standard deviation of the normal distribution. -->\n",
        "\n",
        "# Example usage:\n",
        "mean = 0.0\n",
        "std_dev = 1.0\n",
        "point = 1.0\n",
        "pdf_value = normal_pdf(point, mean, std_dev)\n",
        "print(f\"PDF at x = {point} is {pdf_value:.4f}\")\n",
        "\n",
        "//\n",
        "\n",
        "Q4. What are the properties of Binomial distribution? Give two examples of events where binomial\n",
        "distribution can be applied.\n",
        "\n",
        "Ans: Binomial distribution is use to explain the descrete probability distribution for a random variable, it consists of two parameters one is n which is the number of trails and other one is p which is the probability of success. Mean for bionomial distribution is np where as variance is product of number of trials n with p successes and q probability of failure which is 1-p.\n",
        "\n",
        "Eg: tossing a coin n number of times with p as probability of getting heads and rolling a dice n number of times with success defined as getting 1 as outcome.\n",
        "\n",
        "Q5. Generate a random sample of size 1000 from a binomial distribution with probability of success 0.4\n",
        "and plot a histogram of the results using matplotlib."
      ],
      "metadata": {
        "id": "Qx6CpPvaOwbW"
      }
    },
    {
      "cell_type": "code",
      "source": [
        "import numpy as np\n",
        "import matplotlib.pyplot as plt\n",
        "\n",
        "# Set the parameters\n",
        "n = 1000  # Sample size\n",
        "p = 0.4   # Probability of success\n",
        "\n",
        "# Generate the random sample\n",
        "random_sample = np.random.binomial(1, p, n)\n",
        "\n",
        "# Plot a histogram\n",
        "plt.hist(random_sample, bins=[0, 1, 2], align='left', rwidth=0.8)\n",
        "plt.xlabel(\"Success (1) or Failure (0)\")\n",
        "plt.ylabel(\"Frequency\")\n",
        "plt.title(f\"Binomial Distribution (n={n}, p={p})\")\n",
        "plt.xticks([0, 1])\n",
        "plt.show()"
      ],
      "metadata": {
        "colab": {
          "base_uri": "https://localhost:8080/",
          "height": 472
        },
        "id": "kwlmTNpnT6cL",
        "outputId": "66f6a5c5-fa6b-4c01-990d-18365ef55023"
      },
      "execution_count": 1,
      "outputs": [
        {
          "output_type": "display_data",
          "data": {
            "text/plain": [
              "<Figure size 640x480 with 1 Axes>"
            ],
            "image/png": "[encoded data removed]"
          },
          "metadata": {}
        }
      ]
    },
    {
      "cell_type": "markdown",
      "source": [
        "Q6. Write a Python function to calculate the cumulative distribution function of a Poisson distribution\n",
        "with given mean at a given point."
      ],
      "metadata": {
        "id": "AfnRLX3WUiJr"
      }
    },
    {
      "cell_type": "code",
      "source": [
        "from scipy.stats import poisson\n",
        "\n",
        "def poisson_cdf(x, mu):\n",
        "    \"\"\"\n",
        "    Calculate the cumulative distribution function (CDF) of a Poisson distribution\n",
        "    with a given mean (mu) at a given point (x).\n",
        "\n",
        "    Parameters:\n",
        "    x (int): The point at which to calculate the CDF.\n",
        "    mu (float): The mean of the Poisson distribution.\n",
        "\n",
        "    Returns:\n",
        "    float: The CDF value at the given point.\n",
        "    \"\"\"\n",
        "    cdf = poisson.cdf(x, mu)\n",
        "    return cdf\n",
        "\n",
        "# Example usage:\n",
        "mean = 3.0\n",
        "point = 2\n",
        "cdf_value = poisson_cdf(point, mean)\n",
        "print(f\"CDF at x = {point} is {cdf_value:.4f}\")"
      ],
      "metadata": {
        "colab": {
          "base_uri": "https://localhost:8080/"
        },
        "id": "LCnVfV7oUGvs",
        "outputId": "f528ad29-17b8-4c3d-f170-e5c99c6b4b5a"
      },
      "execution_count": 2,
      "outputs": [
        {
          "output_type": "stream",
          "name": "stdout",
          "text": [
            "CDF at x = 2 is 0.4232\n"
          ]
        }
      ]
    },
    {
      "cell_type": "markdown",
      "source": [
        "Q7. How Binomial distribution different from Poisson distribution?\n",
        "\n",
        "Ans: Both bionominal and poisson distribution have entirely different application all together bionominal distribution is used to explain probability of random variable where n events are occuring with sucess and failure as outcome and it is independent of any time constraint where as poisson distribution considers the time as a important component and it depends occurrence of events in a time duration."
      ],
      "metadata": {
        "id": "Sht2nyu1Upyw"
      }
    },
    {
      "cell_type": "markdown",
      "source": [
        "Q8. Generate a random sample of size 1000 from a Poisson distribution with mean 5 and calculate the\n",
        "sample mean and variance."
      ],
      "metadata": {
        "id": "mTIYvzh9VjaR"
      }
    },
    {
      "cell_type": "code",
      "source": [
        "import numpy as np\n",
        "\n",
        "# Set the parameters\n",
        "sample_size = 1000\n",
        "mean = 5\n",
        "\n",
        "# Generate the random sample\n",
        "random_sample = np.random.poisson(mean, sample_size)\n",
        "\n",
        "# Calculate the sample mean and variance\n",
        "sample_mean = np.mean(random_sample)\n",
        "sample_variance = np.var(random_sample)\n",
        "\n",
        "print(f\"Sample Mean: {sample_mean:.4f}\")\n",
        "print(f\"Sample Variance: {sample_variance:.4f}\")"
      ],
      "metadata": {
        "colab": {
          "base_uri": "https://localhost:8080/"
        },
        "id": "ZL-KD60RUe-B",
        "outputId": "ae2bbf54-4fcd-4d62-ced1-c20a44bc1029"
      },
      "execution_count": 3,
      "outputs": [
        {
          "output_type": "stream",
          "name": "stdout",
          "text": [
            "Sample Mean: 4.9940\n",
            "Sample Variance: 4.6640\n"
          ]
        }
      ]
    },
    {
      "cell_type": "markdown",
      "source": [
        "Q9: How mean and variance are related in Binomial distribution and Poisson distribution?\n",
        "\n",
        "Ans: Binomial distribution, the variance depends on the mean, the probability of success, and the number of trials. In the Poisson distribution, the variance is equal to the mean and is solely determined by the average rate parameter λ\n",
        "\n",
        "Q10. In normal distribution with respect to mean position, where does the least frequent data appear?\n",
        "\n",
        "Ans: Least frequent data appears at the tail of the normal distribution."
      ],
      "metadata": {
        "id": "SvdVwV7gZWqM"
      }
    }
  ]
}