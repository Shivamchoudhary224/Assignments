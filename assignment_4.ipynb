{
  "nbformat": 4,
  "nbformat_minor": 0,
  "metadata": {
    "colab": {
      "provenance": []
    },
    "kernelspec": {
      "name": "python3",
      "display_name": "Python 3"
    },
    "language_info": {
      "name": "python"
    }
  },
  "cells": [
    {
      "cell_type": "markdown",
      "source": [
        "Q1: What is Estimation Statistics? Explain point estimate and interval estimate.\n",
        "\n",
        "Ans: Estimation statistics is a branch which deals with inferences about population based on the sample data.\n",
        "Point estimate : It provides us the single value that is used as a estimate for the population.\n",
        "For eg: Average for data.\n",
        "\n",
        "interval estimate : It provides us the range with a condifence interval in which the estimate lies, it has both upper bound and lower bound.\n",
        "\n",
        "Q2. Write a Python function to estimate the population mean using a sample mean and standard\n",
        "deviation.\n",
        "\n",
        "Ans:"
      ],
      "metadata": {
        "id": "V6_o8unLkCDz"
      }
    },
    {
      "cell_type": "code",
      "source": [
        "def estimate_population_mean( sample_mean ):\n",
        "    return sample_mean\n",
        "\n",
        "sample_data = [25, 30, 35, 40, 45]\n",
        "sample_mean = sum(sample_data) / len(sample_data)\n",
        "\n",
        "# Estimate the population mean\n",
        "estimated_mean = estimate_population_mean(sample_mean)\n",
        "\n",
        "# Print the result\n",
        "print(\"Estimated Population Mean:\", estimated_mean)"
      ],
      "metadata": {
        "id": "rsImg7BfwFsC"
      },
      "execution_count": null,
      "outputs": []
    },
    {
      "cell_type": "markdown",
      "source": [
        "Q3: What is Hypothesis testing? Why is it used? State the importance of Hypothesis testing.\n",
        "\n",
        "Ans:It is type of mathematical testing in which we first declare a null hypothesis stating a condition and an alternative hypothesis which contradicts the null hypothesis, after performing certians steps we declare our findings. Main purpose of using hypothesis testing is that we want to make conclusions about the populations using samples and to find out the underlying evidence to support our claims.\n",
        "\n",
        "Q4. Create a hypothesis that states whether the average weight of male college students is greater than\n",
        "the average weight of female college students.\n",
        "\n",
        "Ans: let avg wt of female = 55\n",
        "\n",
        "let avg male wt = 60 with sd = 5\n",
        "\n",
        "now h0: avg male wt > avg wt of female\n",
        "\n",
        "h1: avg male wt < avg wt of female\n",
        "\n",
        "Q5. Write a Python script to conduct a hypothesis test on the difference between two population means,\n",
        "given a sample from each population."
      ],
      "metadata": {
        "id": "sOGY1190wgiI"
      }
    },
    {
      "cell_type": "code",
      "source": [
        "import numpy as np\n",
        "from scipy import stats\n",
        "\n",
        "# Generate two sample datasets (replace with your own data)\n",
        "np.random.seed(0)\n",
        "sample_size = 30\n",
        "sample1 = np.random.normal(loc=75, scale=10, size=sample_size)  # Sample from population 1\n",
        "sample2 = np.random.normal(loc=80, scale=12, size=sample_size)  # Sample from population 2\n",
        "\n",
        "# Define your null and alternative hypotheses\n",
        "# Null Hypothesis (H0): The population means are equal (μ1 = μ2)\n",
        "# Alternative Hypothesis (Ha): The population means are not equal (μ1 ≠ μ2)\n",
        "\n",
        "# Perform a two-sample t-test\n",
        "t_statistic, p_value = stats.ttest_ind(sample1, sample2)\n",
        "\n",
        "# Set the significance level (alpha)\n",
        "alpha = 0.05\n",
        "\n",
        "# Determine whether to reject the null hypothesis\n",
        "if p_value < alpha:\n",
        "    print(\"Reject the null hypothesis: There is a significant difference in means.\")\n",
        "else:\n",
        "    print(\"Fail to reject the null hypothesis: There is no significant difference in means.\")\n",
        "\n",
        "# Print the test statistics and p-value\n",
        "print(\"t-statistic:\", t_statistic)\n",
        "print(\"p-value:\", p_value)\n"
      ],
      "metadata": {
        "id": "J0ZpAnwFz6J1"
      },
      "execution_count": null,
      "outputs": []
    },
    {
      "cell_type": "markdown",
      "source": [
        "Q6: What is a null and alternative hypothesis? Give some examples.\n",
        "\n",
        "Ans: The average response time of two different website designs is equal (H0: μ1 = μ2).\n",
        "There is no difference in test scores between students who receive tutoring and those who do not (H0: μ_tutoring = μ_no_tutoring).\n",
        "A new drug has no effect on blood pressure (H0: μ_effect = 0).\n",
        "There is no correlation between hours of study and exam scores (H0: ρ = 0, where ρ is the population correlation coefficient).\n",
        "Alternative Hypothesis (Ha or H1):\n",
        "\n",
        "The alternative hypothesis is a statement that contradicts the null hypothesis and represents the claim or effect you want to test or establish.\n",
        "It often contains inequality or directional statements (e.g., not equal to, greater than, less than).\n",
        "In hypothesis testing, we evaluate whether the data provide sufficient evidence to reject the null hypothesis in favor of the alternative hypothesis.\n",
        "\n",
        "Q7: Write down the steps involved in hypothesis testing.\n",
        "\n",
        "Ans Step 1: stating null and alternative hypothesis\n",
        "\n",
        "Step 2: Drawing confidence interval\n",
        "\n",
        "Step 3: calculating the appropriate statistic\n",
        "\n",
        "Step 4: comparing the statistic with alpha value/ significance level\n",
        "\n",
        "Q8. Define p-value and explain its significance in hypothesis testing.\n",
        "\n",
        "Ans: P- value : it is the probability of obtaining sample result when null hypothesis is true, if the p-value is smaller than the alpha then it is inconsistant with the null hypothesis, In this case, you may reject the null hypothesis in favor of the alternative hypothesis. If the p-value is greater than alpha then we can accept the null hypothesis.\n",
        "\n",
        "Q9. Generate a Student's t-distribution plot using Python's matplotlib library, with the degrees of freedom\n",
        "parameter set to 10.\n"
      ],
      "metadata": {
        "id": "TqtPSiOhz8yN"
      }
    },
    {
      "cell_type": "code",
      "source": [
        "import numpy as np\n",
        "import matplotlib.pyplot as plt\n",
        "from scipy.stats import t\n",
        "\n",
        "# Define the degrees of freedom\n",
        "df = 10\n",
        "\n",
        "# Generate x-values for the plot\n",
        "x = np.linspace(-4, 4, 400)\n",
        "\n",
        "# Calculate the probability density function (PDF) for the t-distribution\n",
        "pdf = t.pdf(x, df)\n",
        "\n",
        "# Create the plot\n",
        "plt.figure(figsize=(8, 5))\n",
        "plt.plot(x, pdf, label=f't-Distribution (df={df})', color='b')\n",
        "\n",
        "# Add labels and a legend\n",
        "plt.title(f't-Distribution with {df} Degrees of Freedom')\n",
        "plt.xlabel('x')\n",
        "plt.ylabel('Probability Density')\n",
        "plt.legend()\n",
        "\n",
        "# Display the plot\n",
        "plt.grid(True)\n",
        "plt.show()\n"
      ],
      "metadata": {
        "id": "lG4v8_km_iUN"
      },
      "execution_count": null,
      "outputs": []
    },
    {
      "cell_type": "markdown",
      "source": [
        "Q10. Write a Python program to calculate the two-sample t-test for independent samples, given two\n",
        "random samples of equal size and a null hypothesis that the population means are equal."
      ],
      "metadata": {
        "id": "WqPdPcAq_l_R"
      }
    },
    {
      "cell_type": "code",
      "source": [
        "import numpy as np\n",
        "from scipy import stats\n",
        "\n",
        "# Generate two random samples (replace with your own data)\n",
        "np.random.seed(0)\n",
        "sample_size = 30\n",
        "sample1 = np.random.normal(loc=75, scale=10, size=sample_size)  # Sample 1\n",
        "sample2 = np.random.normal(loc=80, scale=12, size=sample_size)  # Sample 2\n",
        "\n",
        "# Perform a two-sample t-test assuming equal variances\n",
        "t_statistic, p_value = stats.ttest_ind(sample1, sample2, equal_var=True)\n",
        "\n",
        "# Set the significance level (alpha)\n",
        "alpha = 0.05\n",
        "\n",
        "# Determine whether to reject the null hypothesis\n",
        "if p_value < alpha:\n",
        "    print(\"Reject the null hypothesis: There is a significant difference between the means.\")\n",
        "else:\n",
        "    print(\"Fail to reject the null hypothesis: There is no significant difference between the means.\")\n",
        "\n",
        "# Print the test statistics and p-value\n",
        "print(\"t-statistic:\", t_statistic)\n",
        "print(\"p-value:\", p_value)\n"
      ],
      "metadata": {
        "id": "DDY7J01U_vdO"
      },
      "execution_count": null,
      "outputs": []
    },
    {
      "cell_type": "markdown",
      "source": [
        "Q11: What is Student’s t distribution? When to use the t-Distribution.\n",
        "\n",
        "Ans: it is probability disribution similar to normal distribution but is heavy at its tail, it is used when we dont have population standard deviation given and samples values is less than 30.\n",
        "\n",
        "Q13. A coffee shop owner wants to estimate the average daily revenue for their shop. They take a random\n",
        "sample of 50 days and find the sample mean revenue to be $500 with a standard deviation of $50.\n",
        "Estimate the population mean revenue with a 95% confidence interval.\n",
        "\n",
        "Ans: sample mean = 500\n",
        "sample standard deviation = 50\n",
        "n = 50\n",
        "significance value = 0.05\n",
        "\n",
        "bounds : sample mean (+ -) t statics * ( sample standar dev / sq root of n)\n",
        "\n",
        "t statistic for dof : 49 = 2.0096\n",
        "\n",
        "upper bound: 514.21\n",
        "lower bound: 485.79\n",
        "\n",
        "Q14. A researcher hypothesizes that a new drug will decrease blood pressure by 10 mmHg. They conduct a\n",
        "clinical trial with 100 patients and find that the sample mean decrease in blood pressure is 8 mmHg with a\n",
        "standard deviation of 3 mmHg. Test the hypothesis with a significance level of 0.05.\n",
        "\n",
        "Ans: population mean = 10\n",
        "sample mean = 8\n",
        "sample standard deviation(s) = 3\n",
        "alpha = 0.05\n",
        "n = 100\n",
        "\n",
        "h0: medicine has no effect, pop mean >= 10\n",
        "\n",
        "h1: medicine has effect, pop mean < 10\n",
        "\n",
        "using t test:\n",
        "\n",
        "t stastic for dof 99= -6.67\n",
        "\n",
        "critical value = -1.66\n",
        "\n",
        "t stat > critical value\n",
        "\n",
        "rej h0.\n",
        "\n",
        "Q15. An electronics company produces a certain type of product with a mean weight of 5 pounds and a\n",
        "standard deviation of 0.5 pounds. A random sample of 25 products is taken, and the sample mean weight\n",
        "is found to be 4.8 pounds. Test the hypothesis that the true mean weight of the products is less than 5\n",
        "pounds with a significance level of 0.01.\n",
        "\n",
        "Sol: pop mean: 5\n",
        "pop sd: 0.5\n",
        "n = 25\n",
        "sample mean: 4.8\n",
        "\n",
        "h0: mean is greater than or equal to 5\n",
        "h1: mean is less than 5\n",
        "\n",
        "z stastics: -2\n",
        "\n",
        "for alpha 0.01 area under curve = 0.99 which corresponds to -2.33\n",
        "\n",
        "since z statistic > critical value hence accept h0\n",
        "\n",
        "Q16. Two groups of students are given different study materials to prepare for a test. The first group (n1 =30) has a mean score of 80 with a standard deviation of 10, and the second group (n2 = 40) has a mean score of 75 with a standard deviation of 8. Test the hypothesis that the population means for the two groups are equal with a significance level of 0.01.\n",
        "\n",
        "Ans\n",
        "\n",
        "h0: both the means are equal\n",
        "h1: both the means are not equal\n",
        "\n",
        "n1 = 30 x1 = 80 sd1 = 10\n",
        "n2 =40 x2 = 75 sd2 = 8\n",
        "\n",
        "find t stats fpr independent sample : t = 2.25\n",
        "\n",
        "degree of freedom: 54.2\n",
        "\n",
        "find p value using above two\n",
        "\n",
        "p value(0.02312) is > 0.01 hence we fail to rej h0\n",
        "\n",
        "Q17. A marketing company wants to estimate the average number of ads watched by viewers during a TV\n",
        "program. They take a random sample of 50 viewers and find that the sample mean is 4 with a standard\n",
        "deviation of 1.5. Estimate the population mean with a 99% confidence interval.\n",
        "\n",
        "Sol: confidence interval = sample mean (+ -) (critical value*(sample standard deviation/ sq of n))\n",
        "\n",
        "= 4 (+-)(0.01 *(1.5/sqrt(50)))\n",
        "\n",
        "=(3.4537,4.5463)"
      ],
      "metadata": {
        "id": "O8rudWSC_zfl"
      }
    }
  ]
}